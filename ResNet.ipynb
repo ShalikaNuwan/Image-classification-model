{
 "cells": [
  {
   "cell_type": "code",
   "execution_count": 7,
   "metadata": {},
   "outputs": [],
   "source": [
    "# for pytorch\n",
    "import torchvision\n",
    "import torchvision . transforms as transforms\n",
    "# Define data transformations ( optional , butrecommended )\n",
    "transform = transforms . Compose ([ transforms . ToTensor () ,transforms . Normalize ((0.5 , 0.5 , 0.5) , (0.5 , 0.5 ,0.5) ) ])\n",
    "# Load the training dataset\n",
    "\n",
    "    \n",
    "# train_dataset = torchvision . datasets . CIFAR10 ( root =r'D:\\semester 5\\Pattern recognition\\Assignment 3\\assignment 3', train = True , transform = transform , download =True )\n",
    "# # Load the testing dataset\n",
    "# test_dataset = torchvision . datasets . CIFAR10 ( root =r'D:\\semester 5\\Pattern recognition\\Assignment 3\\assignment 3 ', train = False , transform = transform , download =True )\n",
    "# # for keras\n",
    "from keras . datasets import cifar10\n",
    "# Load the CIFAR -10 dataset\n",
    "( train_images , train_labels ) , ( test_images ,test_labels ) = cifar10 . load_data ()\n"
   ]
  },
  {
   "cell_type": "code",
   "execution_count": 8,
   "metadata": {},
   "outputs": [],
   "source": [
    "\n",
    "import numpy as np\n",
    "\n",
    "images = np.concatenate((train_images, test_images), axis=0)\n",
    "labels = np.concatenate((train_labels,test_labels),axis=0)\n",
    "\n",
    "number_of_train_images=int(images.shape[0]*0.6)\n",
    "number_of_test_images=int(images.shape[0]*0.2)\n",
    "number_of_validation_images=int(images.shape[0]*0.2)\n",
    "train_images,validation_images,test_images=np.split(images,[number_of_train_images,number_of_train_images+number_of_validation_images])\n",
    "train_labels,validation_labels,test_labels=np.split(labels,[number_of_train_images,number_of_train_images+number_of_validation_images])\n"
   ]
  },
  {
   "cell_type": "code",
   "execution_count": 15,
   "metadata": {},
   "outputs": [],
   "source": [
    "from tensorflow.keras.applications import ResNet50\n",
    "from tensorflow.keras.layers import Input\n",
    "from tensorflow.keras.models import Model\n",
    "\n",
    "# Define the new input shape you want (e.g., (32, 32, 3))\n",
    "new_input_shape = (32, 32, 3)\n",
    "\n",
    "# Create a new input layer with the desired shape\n",
    "new_input = Input(shape=new_input_shape)\n",
    "\n",
    "# Load the pre-trained ResNet-50 model with the new input layer\n",
    "model = ResNet50(weights='imagenet', include_top=True, input_tensor=new_input)\n"
   ]
  },
  {
   "cell_type": "code",
   "execution_count": 16,
   "metadata": {},
   "outputs": [],
   "source": [
    "import torch.nn as nn\n",
    "model.fc = nn.Linear(in_features=64, out_features=10)"
   ]
  },
  {
   "cell_type": "code",
   "execution_count": 17,
   "metadata": {},
   "outputs": [],
   "source": [
    "for layer in model.layers[:-1]:  # Freeze all layers except the last one (custom classifier)\n",
    "    layer.trainable = False\n"
   ]
  },
  {
   "cell_type": "code",
   "execution_count": 18,
   "metadata": {},
   "outputs": [],
   "source": [
    "model.compile(optimizer='adam', loss='sparse_categorical_crossentropy', metrics=['accuracy'])"
   ]
  },
  {
   "cell_type": "code",
   "execution_count": null,
   "metadata": {},
   "outputs": [],
   "source": [
    "model.fit(train_images, train_labels, validation_data=(validation_images, validation_labels), epochs=20, batch_size=32)"
   ]
  }
 ],
 "metadata": {
  "kernelspec": {
   "display_name": "Python 3",
   "language": "python",
   "name": "python3"
  },
  "language_info": {
   "codemirror_mode": {
    "name": "ipython",
    "version": 3
   },
   "file_extension": ".py",
   "mimetype": "text/x-python",
   "name": "python",
   "nbconvert_exporter": "python",
   "pygments_lexer": "ipython3",
   "version": "3.10.11"
  }
 },
 "nbformat": 4,
 "nbformat_minor": 2
}
