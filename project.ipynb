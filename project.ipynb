{
 "cells": [
  {
   "cell_type": "markdown",
   "metadata": {},
   "source": [
    "Load data"
   ]
  },
  {
   "cell_type": "code",
   "execution_count": 5,
   "metadata": {},
   "outputs": [
    {
     "name": "stdout",
     "output_type": "stream",
     "text": [
      "Train images shape: (50000, 32, 32, 3)\n",
      "Train labels shape: (50000, 1)\n",
      "Test images shape: (10000, 32, 32, 3)\n",
      "Test labels shape: (10000, 1)\n"
     ]
    }
   ],
   "source": [
    "import tensorflow as tf\n",
    "from tensorflow.keras.datasets import cifar10\n",
    "\n",
    "# Load the CIFAR-10 dataset\n",
    "(train_images_temp, train_labels_temp), (test_images_temp, test_labels_temp) = cifar10.load_data()\n",
    "\n",
    "# Normalize pixel values to be between 0 and 1\n",
    "train_images_temp, test_images_temp = train_images_temp / 255.0, test_images_temp / 255.0\n",
    "\n",
    "# Print dataset shapes\n",
    "print(\"Train images shape:\", train_images_temp.shape)\n",
    "print(\"Train labels shape:\", train_labels_temp.shape)\n",
    "print(\"Test images shape:\", test_images_temp.shape)\n",
    "print(\"Test labels shape:\", test_labels_temp.shape)"
   ]
  },
  {
   "cell_type": "markdown",
   "metadata": {},
   "source": [
    "merge all data to a common dataset"
   ]
  },
  {
   "cell_type": "code",
   "execution_count": 6,
   "metadata": {},
   "outputs": [],
   "source": [
    "import numpy as np\n",
    "\n",
    "images = np.concatenate((train_images_temp,test_images_temp),axis=0)\n",
    "lables = np.concatenate((train_labels_temp,test_labels_temp),axis=0)\n",
    "\n",
    "num_train_images = int(images.shape[0]*0.6)\n",
    "num_validate_images = int(images.shape[0]*0.2)\n",
    "num_test_images = int(images.shape[0]*0.2)\n",
    "\n",
    "train_images,validate_images,test_image = np.split(images,[num_train_images,num_validate_images+num_test_images])\n",
    "train_labels,validate_labels,test_labels = np.split(lables,[num_train_images,num_test_images+num_validate_images])\n",
    "\n"
   ]
  },
  {
   "cell_type": "markdown",
   "metadata": {},
   "source": [
    "Build the model"
   ]
  },
  {
   "cell_type": "code",
   "execution_count": 7,
   "metadata": {},
   "outputs": [],
   "source": [
    "import random\n",
    "import matplotlib.pyplot as plt\n",
    "from tensorflow.keras.models import Sequential\n",
    "from tensorflow.keras.layers import Conv2D, MaxPooling2D, Dense, Flatten\n",
    "from tensorflow.keras.layers import Dropout\n",
    "x1,m1=32,3\n",
    "x2,m2=32,3\n",
    "x3=64\n",
    "dropout_rate=0.2\n",
    "model = Sequential([\n",
    "    Conv2D(x1, (m1,m1), activation = 'relu', input_shape = (32, 32, 3)),\n",
    "    MaxPooling2D((2,2)),\n",
    "    \n",
    "    Conv2D(x2, (m2,m2), activation = 'relu'),\n",
    "    MaxPooling2D((2,2)),\n",
    "    \n",
    "    Flatten(),\n",
    "    Dense(x3, activation = 'relu'),\n",
    "    Dropout(rate=dropout_rate),\n",
    "    Dense(10, activation = 'softmax')\n",
    "])\n",
    "\n",
    "model.compile(optimizer='adam', loss='sparse_categorical_crossentropy', metrics=['accuracy'])\n"
   ]
  },
  {
   "cell_type": "markdown",
   "metadata": {},
   "source": [
    "Train the model"
   ]
  },
  {
   "cell_type": "code",
   "execution_count": 9,
   "metadata": {},
   "outputs": [
    {
     "name": "stdout",
     "output_type": "stream",
     "text": [
      "Epoch 1/20\n",
      "1125/1125 [==============================] - 21s 18ms/step - loss: 1.6650 - accuracy: 0.3911\n",
      "Epoch 2/20\n",
      "1125/1125 [==============================] - 19s 17ms/step - loss: 1.3480 - accuracy: 0.5164\n",
      "Epoch 3/20\n",
      "1125/1125 [==============================] - 20s 18ms/step - loss: 1.2118 - accuracy: 0.5665\n",
      "Epoch 4/20\n",
      "1125/1125 [==============================] - 20s 18ms/step - loss: 1.1358 - accuracy: 0.5973\n",
      "Epoch 5/20\n",
      "1125/1125 [==============================] - 20s 18ms/step - loss: 1.0734 - accuracy: 0.6177\n",
      "Epoch 6/20\n",
      "1125/1125 [==============================] - 20s 18ms/step - loss: 1.0261 - accuracy: 0.6386\n",
      "Epoch 7/20\n",
      "1125/1125 [==============================] - 20s 18ms/step - loss: 0.9806 - accuracy: 0.6543\n",
      "Epoch 8/20\n",
      "1125/1125 [==============================] - 21s 18ms/step - loss: 0.9482 - accuracy: 0.6608\n",
      "Epoch 9/20\n",
      "1125/1125 [==============================] - 21s 19ms/step - loss: 0.9188 - accuracy: 0.6742\n",
      "Epoch 10/20\n",
      "1125/1125 [==============================] - 19s 17ms/step - loss: 0.8907 - accuracy: 0.6875\n",
      "Epoch 11/20\n",
      "1125/1125 [==============================] - 17s 15ms/step - loss: 0.8684 - accuracy: 0.6920\n",
      "Epoch 12/20\n",
      "1125/1125 [==============================] - 17s 15ms/step - loss: 0.8416 - accuracy: 0.6987\n",
      "Epoch 13/20\n",
      "1125/1125 [==============================] - 18s 16ms/step - loss: 0.8251 - accuracy: 0.7053\n",
      "Epoch 14/20\n",
      "1125/1125 [==============================] - 19s 17ms/step - loss: 0.8027 - accuracy: 0.7126\n",
      "Epoch 15/20\n",
      "1125/1125 [==============================] - 18s 16ms/step - loss: 0.7840 - accuracy: 0.7177\n",
      "Epoch 16/20\n",
      "1125/1125 [==============================] - 18s 16ms/step - loss: 0.7667 - accuracy: 0.7244\n",
      "Epoch 17/20\n",
      "1125/1125 [==============================] - 17s 15ms/step - loss: 0.7521 - accuracy: 0.7312\n",
      "Epoch 18/20\n",
      "1125/1125 [==============================] - 16s 14ms/step - loss: 0.7346 - accuracy: 0.7298\n",
      "Epoch 19/20\n",
      "1125/1125 [==============================] - 16s 14ms/step - loss: 0.7223 - accuracy: 0.7356\n",
      "Epoch 20/20\n",
      "1125/1125 [==============================] - 17s 15ms/step - loss: 0.7066 - accuracy: 0.7438\n"
     ]
    },
    {
     "data": {
      "text/plain": [
       "<keras.src.callbacks.History at 0x1e2122d2a40>"
      ]
     },
     "execution_count": 9,
     "metadata": {},
     "output_type": "execute_result"
    }
   ],
   "source": [
    "model.fit(train_images, train_labels, validation_data=(validate_images, validate_labels), epochs=20, batch_size=32)"
   ]
  }
 ],
 "metadata": {
  "kernelspec": {
   "display_name": "Python 3",
   "language": "python",
   "name": "python3"
  },
  "language_info": {
   "codemirror_mode": {
    "name": "ipython",
    "version": 3
   },
   "file_extension": ".py",
   "mimetype": "text/x-python",
   "name": "python",
   "nbconvert_exporter": "python",
   "pygments_lexer": "ipython3",
   "version": "3.10.5"
  }
 },
 "nbformat": 4,
 "nbformat_minor": 2
}
