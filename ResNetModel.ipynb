{
 "cells": [
  {
   "cell_type": "code",
   "execution_count": 1,
   "metadata": {},
   "outputs": [],
   "source": [
    "# for pytorch\n",
    "import torchvision\n",
    "import torchvision . transforms as transforms\n",
    "# Define data transformations ( optional , butrecommended )\n",
    "transform = transforms . Compose ([ transforms . ToTensor () ,transforms . Normalize ((0.5 , 0.5 , 0.5) , (0.5 , 0.5 ,0.5) ) ])\n",
    "# Load the training dataset\n",
    "\n",
    "    \n",
    "# train_dataset = torchvision . datasets . CIFAR10 ( root =r'D:\\semester 5\\Pattern recognition\\Assignment 3\\assignment 3', train = True , transform = transform , download =True )\n",
    "# # Load the testing dataset\n",
    "# test_dataset = torchvision . datasets . CIFAR10 ( root =r'D:\\semester 5\\Pattern recognition\\Assignment 3\\assignment 3 ', train = False , transform = transform , download =True )\n",
    "# # for keras\n",
    "from keras . datasets import cifar10\n",
    "# Load the CIFAR -10 dataset\n",
    "( train_images , train_labels ) , ( test_images ,test_labels ) = cifar10 . load_data ()\n"
   ]
  }
 ],
 "metadata": {
  "kernelspec": {
   "display_name": "Python 3",
   "language": "python",
   "name": "python3"
  },
  "language_info": {
   "codemirror_mode": {
    "name": "ipython",
    "version": 3
   },
   "file_extension": ".py",
   "mimetype": "text/x-python",
   "name": "python",
   "nbconvert_exporter": "python",
   "pygments_lexer": "ipython3",
   "version": "3.10.5"
  }
 },
 "nbformat": 4,
 "nbformat_minor": 2
}
