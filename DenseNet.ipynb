{
 "cells": [
  {
   "cell_type": "markdown",
   "metadata": {},
   "source": [
    "2. Compare the model with DenseNet model\n",
    "Load CIFAR-10 data set"
   ]
  },
  {
   "cell_type": "code",
   "execution_count": 1,
   "metadata": {},
   "outputs": [
    {
     "name": "stdout",
     "output_type": "stream",
     "text": [
      "Train images shape: (50000, 32, 32, 3)\n",
      "Train labels shape: (50000, 1)\n",
      "Test images shape: (10000, 32, 32, 3)\n",
      "Test labels shape: (10000, 1)\n"
     ]
    }
   ],
   "source": [
    "import tensorflow as tf\n",
    "from tensorflow.keras.datasets import cifar10\n",
    "\n",
    "# Load the CIFAR-10 dataset\n",
    "(train_images_temp, train_labels_temp), (test_images_temp, test_labels_temp) = cifar10.load_data()\n",
    "\n",
    "# Normalize pixel values to be between 0 and 1\n",
    "train_images_temp, test_images_temp = train_images_temp / 255.0, test_images_temp / 255.0\n",
    "\n",
    "# Print dataset shapes\n",
    "print(\"Train images shape:\", train_images_temp.shape)\n",
    "print(\"Train labels shape:\", train_labels_temp.shape)\n",
    "print(\"Test images shape:\", test_images_temp.shape)\n",
    "print(\"Test labels shape:\", test_labels_temp.shape)\n",
    "\n",
    "#merge data to a common data set\n",
    "\n",
    "import numpy as np\n",
    "\n",
    "images = np.concatenate((train_images_temp,test_images_temp),axis=0)\n",
    "lables = np.concatenate((train_labels_temp,test_labels_temp),axis=0)\n",
    "\n",
    "num_train_images = int(images.shape[0]*0.6)\n",
    "num_validate_images = int(images.shape[0]*0.2)\n",
    "num_test_images = int(images.shape[0]*0.2)\n",
    "\n",
    "train_images,validate_images,test_images = np.split(images,[num_train_images,num_validate_images+num_test_images])\n",
    "train_labels,validate_labels,test_labels = np.split(lables,[num_train_images,num_test_images+num_validate_images])\n",
    "\n"
   ]
  },
  {
   "cell_type": "markdown",
   "metadata": {},
   "source": [
    "Import the DenseNet Model and train the model"
   ]
  },
  {
   "cell_type": "code",
   "execution_count": null,
   "metadata": {},
   "outputs": [],
   "source": [
    "import tensorflow as tf\n",
    "from tensorflow.keras.applications import DenseNet121  \n",
    "from tensorflow.keras.layers import Input\n",
    "\n",
    "\n",
    "#change the new input shape\n",
    "new_input_shape = (32,32,3)\n",
    "\n",
    "#new input layer\n",
    "new_input_layer = Input(shape=new_input_shape)\n",
    "# Load the pre-trained DenseNet model \n",
    "densenet_model = DenseNet121(weights='imagenet', include_top=True,input_tensor = new_input_layer)\n",
    "\n",
    "# Optionally, set the model to evaluation mode\n",
    "densenet_model.trainable = True\n",
    "\n",
    "# View a summary of the model's architecture\n",
    "densenet_model.summary()"
   ]
  }
 ],
 "metadata": {
  "kernelspec": {
   "display_name": "Python 3",
   "language": "python",
   "name": "python3"
  },
  "language_info": {
   "codemirror_mode": {
    "name": "ipython",
    "version": 3
   },
   "file_extension": ".py",
   "mimetype": "text/x-python",
   "name": "python",
   "nbconvert_exporter": "python",
   "pygments_lexer": "ipython3",
   "version": "3.10.5"
  }
 },
 "nbformat": 4,
 "nbformat_minor": 2
}
